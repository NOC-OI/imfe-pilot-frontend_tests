{
 "cells": [
  {
   "cell_type": "code",
   "execution_count": 1,
   "id": "471c283a",
   "metadata": {},
   "outputs": [],
   "source": [
    "# Import the 'modules' that are required for execution\n",
    "from selenium import webdriver\n",
    "from selenium.webdriver.chrome.options import Options\n",
    "from selenium.webdriver.common.keys import Keys\n",
    "from frontend_test.utils import *\n",
    "from time import sleep\n",
    "import os\n",
    "from dotenv import load_dotenv\n",
    "from selenium.webdriver.common.by import By\n",
    "from selenium.webdriver.support.ui import WebDriverWait\n",
    "from selenium.webdriver.support import expected_conditions as EC\n",
    "from selenium.webdriver.common.action_chains import ActionChains\n",
    "from selenium.webdriver.support.select import Select\n",
    "\n",
    "%load_ext autoreload\n",
    "%autoreload 2"
   ]
  },
  {
   "cell_type": "code",
   "execution_count": 2,
   "id": "80752edc",
   "metadata": {},
   "outputs": [
    {
     "data": {
      "text/plain": [
       "True"
      ]
     },
     "execution_count": 2,
     "metadata": {},
     "output_type": "execute_result"
    }
   ],
   "source": [
    "load_dotenv()"
   ]
  },
  {
   "cell_type": "code",
   "execution_count": 5,
   "id": "610fe0e8-83c2-42d5-a85f-ac4fb7967016",
   "metadata": {},
   "outputs": [
    {
     "data": {
      "text/plain": [
       "'Type'"
      ]
     },
     "execution_count": 5,
     "metadata": {},
     "output_type": "execute_result"
    }
   ],
   "source": [
    "x = 'Typeas;;;'\n",
    "x[0:4]"
   ]
  },
  {
   "cell_type": "code",
   "execution_count": null,
   "id": "e6d89533-b1ca-46d0-b488-26b08cb1fe6f",
   "metadata": {},
   "outputs": [],
   "source": []
  },
  {
   "cell_type": "code",
   "execution_count": 3,
   "id": "3091ea4a",
   "metadata": {},
   "outputs": [],
   "source": [
    "args = [\"-headless\", \"--no-sandbox\"]\n",
    "preferences = []\n",
    "options = def_args_prefs(Options(), args, preferences)\n",
    "driver = webdriver.Chrome(options=options)\n",
    "url = os.getenv('FRONTEND_URL_LOCAL')"
   ]
  },
  {
   "cell_type": "code",
   "execution_count": 4,
   "id": "849df0aa",
   "metadata": {},
   "outputs": [],
   "source": [
    "driver.get(url)\n",
    "assert driver.title == \"Haig Fras - Digital Twin\""
   ]
  },
  {
   "cell_type": "code",
   "execution_count": 5,
   "id": "0d2ccdde",
   "metadata": {},
   "outputs": [],
   "source": [
    "click_fontawesome(driver)\n"
   ]
  },
  {
   "cell_type": "code",
   "execution_count": 6,
   "id": "d030639e",
   "metadata": {},
   "outputs": [],
   "source": [
    "infobox_container = driver.find_element(By.ID, \"infobox-container\")"
   ]
  },
  {
   "cell_type": "code",
   "execution_count": 7,
   "id": "33a91fea",
   "metadata": {},
   "outputs": [
    {
     "data": {
      "text/plain": [
       "True"
      ]
     },
     "execution_count": 7,
     "metadata": {},
     "output_type": "execute_result"
    }
   ],
   "source": [
    "'---' in infobox_container.text"
   ]
  },
  {
   "cell_type": "code",
   "execution_count": 8,
   "id": "c309a4eb-a3a5-43cf-982c-22615f0ec083",
   "metadata": {},
   "outputs": [],
   "source": [
    "section_name = \"Species of Interest\"\n",
    "button = driver.find_element(By.ID, section_name)\n",
    "button.click()"
   ]
  },
  {
   "cell_type": "code",
   "execution_count": 9,
   "id": "d1c0f5a1-3be4-4f0b-81b2-b9b1477feb31",
   "metadata": {},
   "outputs": [],
   "source": [
    "section_title = driver.find_elements(By.TAG_NAME, \"h1\")\n",
    "assert section_title[0].text == section_name"
   ]
  },
  {
   "cell_type": "code",
   "execution_count": 10,
   "id": "ed130226-ac69-41c2-9e31-8ca0d7c15691",
   "metadata": {},
   "outputs": [],
   "source": [
    "check_info_section(driver, section_name)\n",
    "\n",
    "buttons = driver.find_elements(By.XPATH, \"//span[@title='expand']\")\n",
    "assert len(buttons) > 1"
   ]
  },
  {
   "cell_type": "code",
   "execution_count": 11,
   "id": "11dc00f6-3576-4d8c-92b2-7274ea9caba7",
   "metadata": {},
   "outputs": [
    {
     "data": {
      "text/plain": [
       "[<selenium.webdriver.remote.webelement.WebElement (session=\"8a9395266970cefff74e462d67e05fb9\", element=\"A3D7DEF26DF6CEA5DA956A64366F1E36_element_54\")>,\n",
       " <selenium.webdriver.remote.webelement.WebElement (session=\"8a9395266970cefff74e462d67e05fb9\", element=\"A3D7DEF26DF6CEA5DA956A64366F1E36_element_55\")>,\n",
       " <selenium.webdriver.remote.webelement.WebElement (session=\"8a9395266970cefff74e462d67e05fb9\", element=\"A3D7DEF26DF6CEA5DA956A64366F1E36_element_56\")>]"
      ]
     },
     "execution_count": 11,
     "metadata": {},
     "output_type": "execute_result"
    }
   ],
   "source": [
    "buttons"
   ]
  },
  {
   "cell_type": "code",
   "execution_count": 12,
   "id": "330574ce-47b7-4698-b6de-2c87a662243b",
   "metadata": {},
   "outputs": [],
   "source": [
    "buttons[1].click()"
   ]
  },
  {
   "cell_type": "code",
   "execution_count": 13,
   "id": "2fda1a27-640e-4c49-8d02-331bd76dbc24",
   "metadata": {},
   "outputs": [],
   "source": [
    "organisms = [\"Pentapora foliacea\", \"Cartilagenous fish\"]\n"
   ]
  },
  {
   "cell_type": "code",
   "execution_count": 17,
   "id": "9cd83589-fa26-4367-8572-6cc20821b522",
   "metadata": {},
   "outputs": [],
   "source": [
    "buttons = driver.find_elements(By.ID, \"general-types\")"
   ]
  },
  {
   "cell_type": "code",
   "execution_count": 20,
   "id": "faf2fa90-3c6e-4703-8cab-a4aadac6bb37",
   "metadata": {},
   "outputs": [
    {
     "data": {
      "text/plain": [
       "'Sea pen'"
      ]
     },
     "execution_count": 20,
     "metadata": {},
     "output_type": "execute_result"
    }
   ],
   "source": [
    "buttons[0].text"
   ]
  },
  {
   "cell_type": "code",
   "execution_count": null,
   "id": "e222ce94-d629-48a3-8b37-1c1f755b6f1a",
   "metadata": {},
   "outputs": [],
   "source": []
  },
  {
   "cell_type": "code",
   "execution_count": 102,
   "id": "75894a3c",
   "metadata": {},
   "outputs": [],
   "source": [
    "click_fontawesome(driver)\n",
    "\n",
    "section_name = \"Data Exploration\"\n",
    "button = driver.find_element(By.ID, section_name)\n",
    "button.click()\n",
    "\n",
    "section_title = driver.find_elements(By.TAG_NAME, \"h1\")\n",
    "assert section_title[0].text == section_name\n",
    "\n",
    "check_info_section(driver, section_name)\n",
    "\n",
    "# general_types = driver.find_elements(By.ID, \"general-types\")\n",
    "# for idx, general_type in enumerate(general_types):\n",
    "#     check_info_section(driver, title = general_type.text, id_name=\"info-subsection-button\", idx=idx)\n",
    "\n",
    "buttons = driver.find_elements(By.XPATH, \"//span[@title='expand']\")\n",
    "assert len(buttons) > 0\n",
    "sleep(5)\n",
    "buttons[1].click()\n",
    "type_options = driver.find_elements(By.ID, \"type-option\")"
   ]
  },
  {
   "cell_type": "code",
   "execution_count": 103,
   "id": "adddf6f5",
   "metadata": {},
   "outputs": [],
   "source": [
    "layer_edit = driver.find_elements(By.ID, \"layer-edit\")\n",
    "assert len(layer_edit) == 0"
   ]
  },
  {
   "cell_type": "code",
   "execution_count": 104,
   "id": "7a1d2611",
   "metadata": {},
   "outputs": [],
   "source": [
    "type_option = type_options[0]\n",
    "check_layer = type_option.find_element(By.TAG_NAME, 'input')"
   ]
  },
  {
   "cell_type": "code",
   "execution_count": 105,
   "id": "749e4888",
   "metadata": {},
   "outputs": [],
   "source": [
    "polygons = driver.find_elements(By.CSS_SELECTOR, \"svg.leaflet-zoom-animated>g path\")\n",
    "assert len(polygons) == 0"
   ]
  },
  {
   "cell_type": "code",
   "execution_count": 106,
   "id": "09d823dd",
   "metadata": {},
   "outputs": [],
   "source": [
    "map_icons = driver.find_elements(By.CLASS_NAME, \"all-icon\")\n",
    "assert len(map_icons) == 0"
   ]
  },
  {
   "cell_type": "code",
   "execution_count": 73,
   "id": "a8b7e44b",
   "metadata": {},
   "outputs": [],
   "source": [
    "check_layer = type_option.find_element(By.TAG_NAME, 'input')\n",
    "check_layer.click()"
   ]
  },
  {
   "cell_type": "code",
   "execution_count": 109,
   "id": "cef2cb86",
   "metadata": {},
   "outputs": [
    {
     "data": {
      "text/plain": [
       "'0.7'"
      ]
     },
     "execution_count": 109,
     "metadata": {},
     "output_type": "execute_result"
    }
   ],
   "source": [
    "x = \"z-index: 23; opacity: 0.7;\"\n",
    "x[-4:-1]"
   ]
  },
  {
   "cell_type": "code",
   "execution_count": 74,
   "id": "91d59d3a",
   "metadata": {},
   "outputs": [],
   "source": [
    "wait = WebDriverWait(driver, 10)\n",
    "map_icon = wait.until(EC.visibility_of_element_located((By.CLASS_NAME, \"all-icon\")))"
   ]
  },
  {
   "cell_type": "code",
   "execution_count": 80,
   "id": "37208c48",
   "metadata": {},
   "outputs": [],
   "source": [
    "map_icons = driver.find_elements(By.CLASS_NAME, \"all-icon\")\n",
    "assert len(map_icons) > 0"
   ]
  },
  {
   "cell_type": "code",
   "execution_count": 79,
   "id": "6ee3f436",
   "metadata": {},
   "outputs": [
    {
     "data": {
      "text/plain": [
       "'0.7'"
      ]
     },
     "execution_count": 79,
     "metadata": {},
     "output_type": "execute_result"
    }
   ],
   "source": [
    "polygons = driver.find_elements(By.CSS_SELECTOR, \"svg.leaflet-zoom-animated>g path\")\n",
    "opacity = polygons[0].get_attribute('fill-opacity')"
   ]
  },
  {
   "cell_type": "code",
   "execution_count": 81,
   "id": "e8c4b224",
   "metadata": {},
   "outputs": [],
   "source": [
    "layer_edit = driver.find_elements(By.ID, \"layer-edit\")\n",
    "assert len(layer_edit) > 0"
   ]
  },
  {
   "cell_type": "code",
   "execution_count": 26,
   "id": "8f301a0e",
   "metadata": {},
   "outputs": [],
   "source": [
    "map_icons = driver.find_elements(By.CLASS_NAME, \"all-icon\")\n",
    "assert len(map_icons) > 0"
   ]
  },
  {
   "cell_type": "code",
   "execution_count": 82,
   "id": "625253bb",
   "metadata": {},
   "outputs": [],
   "source": [
    "click_fontawesome(driver=layer_edit[0], button_name='sliders')"
   ]
  },
  {
   "cell_type": "code",
   "execution_count": 83,
   "id": "d23e19a7",
   "metadata": {},
   "outputs": [],
   "source": [
    "input_range = driver.find_elements(By.XPATH, \"//input[@type='range']\")\n",
    "assert len(input_range) > 0\n",
    "input_range[0].send_keys(Keys.LEFT)"
   ]
  },
  {
   "cell_type": "code",
   "execution_count": 84,
   "id": "95d210e1",
   "metadata": {},
   "outputs": [
    {
     "data": {
      "text/plain": [
       "'0.6'"
      ]
     },
     "execution_count": 84,
     "metadata": {},
     "output_type": "execute_result"
    }
   ],
   "source": [
    "polygons = driver.find_elements(By.CSS_SELECTOR, \"svg.leaflet-zoom-animated>g path\")\n",
    "new_opacity = polygons[0].get_attribute('fill-opacity')\n",
    "new_opacity"
   ]
  },
  {
   "cell_type": "code",
   "execution_count": 85,
   "id": "bd0f0756",
   "metadata": {},
   "outputs": [],
   "source": [
    "general_types = driver.find_elements(By.ID, \"general-types\")\n",
    "check_info_section(driver, title = f\"{general_types[1].text} - {type_option.text}\", id_name=\"info-subsection-button\")\n"
   ]
  },
  {
   "cell_type": "code",
   "execution_count": 86,
   "id": "6a9e8626",
   "metadata": {},
   "outputs": [],
   "source": [
    "click_fontawesome(driver=layer_edit[0], button_name='sliders')\n",
    "input_range = driver.find_elements(By.XPATH, \"//input[@type='range']\")"
   ]
  },
  {
   "cell_type": "code",
   "execution_count": 87,
   "id": "425765a3",
   "metadata": {},
   "outputs": [],
   "source": [
    "assert len(input_range) == 0"
   ]
  },
  {
   "cell_type": "code",
   "execution_count": 88,
   "id": "e75ddb6f",
   "metadata": {},
   "outputs": [],
   "source": [
    "x = 'Seabed Images_JNCC CEND1012 Survey'"
   ]
  },
  {
   "cell_type": "code",
   "execution_count": 91,
   "id": "d2d8590f",
   "metadata": {},
   "outputs": [
    {
     "data": {
      "text/plain": [
       "True"
      ]
     },
     "execution_count": 91,
     "metadata": {},
     "output_type": "execute_result"
    }
   ],
   "source": [
    "'Survey' in x"
   ]
  },
  {
   "cell_type": "code",
   "execution_count": 34,
   "id": "50019bc6",
   "metadata": {},
   "outputs": [],
   "source": [
    "layer_edit = driver.find_elements(By.ID, \"layer-edit\")\n",
    "assert len(layer_edit) > 0"
   ]
  },
  {
   "cell_type": "code",
   "execution_count": 30,
   "id": "f8b27fa1",
   "metadata": {},
   "outputs": [],
   "source": [
    "click_fontawesome(driver=layer_edit[0], button_name='sliders', exist=False)            "
   ]
  },
  {
   "cell_type": "code",
   "execution_count": 41,
   "id": "95df62ee",
   "metadata": {},
   "outputs": [],
   "source": [
    "general_types = driver.find_elements(By.ID, \"general-types\")\n",
    "check_info_section(driver, title = f\"{general_types[1].text} - {type_option.text}\", id_name=\"info-subsection-button\")"
   ]
  },
  {
   "cell_type": "code",
   "execution_count": 43,
   "id": "b6d81b13",
   "metadata": {},
   "outputs": [
    {
     "data": {
      "text/plain": [
       "''"
      ]
     },
     "execution_count": 43,
     "metadata": {},
     "output_type": "execute_result"
    }
   ],
   "source": [
    "polygons[0].get_attribute('op')"
   ]
  },
  {
   "cell_type": "code",
   "execution_count": null,
   "id": "08650518",
   "metadata": {},
   "outputs": [],
   "source": [
    "layer_values = polygon[0].get_attribute('style').replace(':', '').replace(';', '').split(' ')"
   ]
  },
  {
   "cell_type": "code",
   "execution_count": null,
   "id": "9a354177",
   "metadata": {},
   "outputs": [],
   "source": []
  },
  {
   "cell_type": "code",
   "execution_count": null,
   "id": "54547faa",
   "metadata": {},
   "outputs": [],
   "source": []
  },
  {
   "cell_type": "code",
   "execution_count": 75,
   "id": "526d4017",
   "metadata": {},
   "outputs": [],
   "source": [
    "new_layer = get_layers(driver)\n",
    "assert new_layer"
   ]
  },
  {
   "cell_type": "code",
   "execution_count": 76,
   "id": "1394a971",
   "metadata": {},
   "outputs": [],
   "source": [
    "layer_edit = driver.find_elements(By.ID, \"layer-edit\")\n",
    "assert len(layer_edit) > 0"
   ]
  },
  {
   "cell_type": "code",
   "execution_count": 77,
   "id": "938199e7",
   "metadata": {},
   "outputs": [],
   "source": [
    "layer_values = new_layer.get_attribute('style').replace(':', '').replace(';', '').split(' ')"
   ]
  },
  {
   "cell_type": "code",
   "execution_count": 78,
   "id": "fd8b7748",
   "metadata": {},
   "outputs": [],
   "source": [
    "click_fontawesome(driver=layer_edit[0], button_name='magnifying-glass')"
   ]
  },
  {
   "cell_type": "code",
   "execution_count": 79,
   "id": "42f49792",
   "metadata": {},
   "outputs": [],
   "source": [
    "new_layer = get_layers(driver)\n",
    "layer_values_new = new_layer.get_attribute('style').replace(':', '').replace(';', '').split(' ')"
   ]
  },
  {
   "cell_type": "code",
   "execution_count": 80,
   "id": "aa66844c",
   "metadata": {},
   "outputs": [
    {
     "data": {
      "text/plain": [
       "True"
      ]
     },
     "execution_count": 80,
     "metadata": {},
     "output_type": "execute_result"
    }
   ],
   "source": [
    "int(layer_values[1]) < int(layer_values_new[1])"
   ]
  },
  {
   "cell_type": "code",
   "execution_count": 81,
   "id": "fb11370a",
   "metadata": {},
   "outputs": [],
   "source": [
    "input_range = driver.find_elements(By.XPATH, \"//input[@type='range']\")\n",
    "assert len(input_range) == 0"
   ]
  },
  {
   "cell_type": "code",
   "execution_count": 82,
   "id": "1fa9b9a2",
   "metadata": {},
   "outputs": [],
   "source": [
    "click_fontawesome(driver=layer_edit[0], button_name='sliders')"
   ]
  },
  {
   "cell_type": "code",
   "execution_count": 83,
   "id": "e59d49b3",
   "metadata": {},
   "outputs": [],
   "source": [
    "input_range = driver.find_elements(By.XPATH, \"//input[@type='range']\")\n",
    "assert len(input_range) > 0"
   ]
  },
  {
   "cell_type": "code",
   "execution_count": 84,
   "id": "72a45ba6",
   "metadata": {},
   "outputs": [
    {
     "data": {
      "text/plain": [
       "'0.7'"
      ]
     },
     "execution_count": 84,
     "metadata": {},
     "output_type": "execute_result"
    }
   ],
   "source": [
    "input_range[0].get_attribute('value')"
   ]
  },
  {
   "cell_type": "code",
   "execution_count": 85,
   "id": "2b5d2b1d",
   "metadata": {},
   "outputs": [],
   "source": [
    "input_range[0].send_keys(Keys.LEFT)"
   ]
  },
  {
   "cell_type": "code",
   "execution_count": 86,
   "id": "19c247b8",
   "metadata": {},
   "outputs": [
    {
     "data": {
      "text/plain": [
       "'0.6'"
      ]
     },
     "execution_count": 86,
     "metadata": {},
     "output_type": "execute_result"
    }
   ],
   "source": [
    "input_range[0].get_attribute('value')"
   ]
  },
  {
   "cell_type": "code",
   "execution_count": 87,
   "id": "c9c1112e",
   "metadata": {},
   "outputs": [],
   "source": [
    "new_layer = get_layers(driver)\n",
    "layer_values_new = new_layer.get_attribute('style').replace(':', '').replace(';', '').split(' ')"
   ]
  },
  {
   "cell_type": "code",
   "execution_count": 88,
   "id": "79eb18c4",
   "metadata": {},
   "outputs": [],
   "source": [
    "assert float(layer_values[3]) > float(layer_values_new[3])"
   ]
  },
  {
   "cell_type": "code",
   "execution_count": 89,
   "id": "c0b264eb",
   "metadata": {},
   "outputs": [],
   "source": [
    "flash_message = driver.find_elements(By.ID, \"flash-message\")\n",
    "assert len(flash_message) == 0"
   ]
  },
  {
   "cell_type": "code",
   "execution_count": 90,
   "id": "c5ed55e8",
   "metadata": {},
   "outputs": [],
   "source": [
    "click_fontawesome(driver=layer_edit[0], button_name='chart-simple')\n",
    "flash_message = driver.find_elements(By.ID, \"flash-message\")\n",
    "assert len(flash_message) > 0"
   ]
  },
  {
   "cell_type": "code",
   "execution_count": 91,
   "id": "8b9cbe57",
   "metadata": {},
   "outputs": [],
   "source": [
    "leaflet_map = driver.find_element(By.CLASS_NAME, \"leaflet-container\")\n",
    "act_driver = ActionChains(driver)\n",
    "act_driver.move_to_element(leaflet_map)\n",
    "act_driver.perform()"
   ]
  },
  {
   "cell_type": "code",
   "execution_count": 92,
   "id": "925dd628",
   "metadata": {},
   "outputs": [],
   "source": [
    "act_driver.move_by_offset(50, 50)\n",
    "act_driver.perform()"
   ]
  },
  {
   "cell_type": "code",
   "execution_count": 93,
   "id": "7d25e058",
   "metadata": {},
   "outputs": [],
   "source": [
    "act_driver.click()\n",
    "act_driver.perform()"
   ]
  },
  {
   "cell_type": "code",
   "execution_count": 94,
   "id": "19ea1b36",
   "metadata": {},
   "outputs": [],
   "source": [
    "act_driver.move_to_element(leaflet_map)\n",
    "act_driver.perform()\n",
    "act_driver.move_by_offset(100, 100)\n",
    "act_driver.perform()\n",
    "act_driver.click()\n",
    "act_driver.perform()"
   ]
  },
  {
   "cell_type": "code",
   "execution_count": 95,
   "id": "b1cce72d",
   "metadata": {},
   "outputs": [],
   "source": [
    "sleep(10)"
   ]
  },
  {
   "cell_type": "code",
   "execution_count": 96,
   "id": "7209ddc1",
   "metadata": {},
   "outputs": [],
   "source": [
    "graph_box = driver.find_elements(By.ID, \"graph-box\")\n",
    "assert len(graph_box) > 0"
   ]
  },
  {
   "cell_type": "code",
   "execution_count": 97,
   "id": "9ca43e7e",
   "metadata": {},
   "outputs": [],
   "source": [
    "graph_box[0].find_element(By.TAG_NAME, 'button').click()"
   ]
  },
  {
   "cell_type": "code",
   "execution_count": 99,
   "id": "160198b0",
   "metadata": {},
   "outputs": [],
   "source": [
    "graph_box = driver.find_elements(By.ID, \"graph-box\")"
   ]
  },
  {
   "cell_type": "code",
   "execution_count": 100,
   "id": "004ddd97",
   "metadata": {},
   "outputs": [],
   "source": [
    "graph = graph_box[0].find_elements(By.CLASS_NAME, 'VictoryContainer')"
   ]
  },
  {
   "cell_type": "code",
   "execution_count": 101,
   "id": "d079095a",
   "metadata": {},
   "outputs": [],
   "source": [
    "assert len(graph) > 0"
   ]
  },
  {
   "cell_type": "code",
   "execution_count": 103,
   "id": "1e461133",
   "metadata": {},
   "outputs": [],
   "source": [
    "x_label = graph[0].find_element(By.ID, 'chart-axis-1-axisLabel-0')\n",
    "assert x_label.text == 'Distance (km)'"
   ]
  },
  {
   "cell_type": "code",
   "execution_count": 106,
   "id": "3305d912",
   "metadata": {},
   "outputs": [
    {
     "ename": "AssertionError",
     "evalue": "",
     "output_type": "error",
     "traceback": [
      "\u001b[0;31m---------------------------------------------------------------------------\u001b[0m",
      "\u001b[0;31mAssertionError\u001b[0m                            Traceback (most recent call last)",
      "Cell \u001b[0;32mIn[106], line 3\u001b[0m\n\u001b[1;32m      1\u001b[0m click_fontawesome(driver)\n\u001b[1;32m      2\u001b[0m graph_box \u001b[38;5;241m=\u001b[39m driver\u001b[38;5;241m.\u001b[39mfind_elements(By\u001b[38;5;241m.\u001b[39mID, \u001b[38;5;124m\"\u001b[39m\u001b[38;5;124mgraph-box\u001b[39m\u001b[38;5;124m\"\u001b[39m)\n\u001b[0;32m----> 3\u001b[0m \u001b[38;5;28;01massert\u001b[39;00m \u001b[38;5;28mlen\u001b[39m(graph) \u001b[38;5;241m==\u001b[39m \u001b[38;5;241m0\u001b[39m\n",
      "\u001b[0;31mAssertionError\u001b[0m: "
     ]
    }
   ],
   "source": [
    "click_fontawesome(driver)"
   ]
  },
  {
   "cell_type": "code",
   "execution_count": 107,
   "id": "325f49ed",
   "metadata": {},
   "outputs": [],
   "source": [
    "graph_box = driver.find_elements(By.ID, \"graph-box\")\n",
    "assert len(graph_box) == 0"
   ]
  },
  {
   "cell_type": "code",
   "execution_count": 108,
   "id": "4ae16de5",
   "metadata": {},
   "outputs": [],
   "source": [
    "check_layer.click()\n",
    "new_layer = get_layers(driver)\n",
    "assert not new_layer"
   ]
  },
  {
   "cell_type": "code",
   "execution_count": 109,
   "id": "2233a292",
   "metadata": {},
   "outputs": [],
   "source": [
    "button = driver.find_element(By.ID, section_name)\n",
    "button.click()"
   ]
  },
  {
   "cell_type": "code",
   "execution_count": 110,
   "id": "fa300bf4",
   "metadata": {},
   "outputs": [],
   "source": [
    "section_title = driver.find_elements(By.TAG_NAME, \"h1\")\n",
    "assert len(section_title) == 1"
   ]
  },
  {
   "cell_type": "code",
   "execution_count": 204,
   "id": "8bd331ae",
   "metadata": {},
   "outputs": [
    {
     "data": {
      "text/plain": [
       "['z-index', '5', 'opacity', '1']"
      ]
     },
     "execution_count": 204,
     "metadata": {},
     "output_type": "execute_result"
    }
   ],
   "source": [
    "new_layers.get_attribute('style').replace(':', '').replace(';', '').split(' ')"
   ]
  },
  {
   "cell_type": "code",
   "execution_count": 206,
   "id": "d32b520c",
   "metadata": {},
   "outputs": [
    {
     "data": {
      "text/plain": [
       "[]"
      ]
     },
     "execution_count": 206,
     "metadata": {},
     "output_type": "execute_result"
    }
   ],
   "source": [
    "input_range = driver.find_elements(By.XPATH, \"//input[@type='range']\")\n",
    "input_range"
   ]
  },
  {
   "cell_type": "code",
   "execution_count": 111,
   "id": "2d0e4511",
   "metadata": {},
   "outputs": [
    {
     "name": "stdout",
     "output_type": "stream",
     "text": [
      "1\n",
      "2\n"
     ]
    }
   ],
   "source": [
    "for i in [1,2]:\n",
    "    print(i)"
   ]
  },
  {
   "cell_type": "code",
   "execution_count": 212,
   "id": "60b0c7bc",
   "metadata": {},
   "outputs": [
    {
     "data": {
      "text/plain": [
       "[]"
      ]
     },
     "execution_count": 212,
     "metadata": {},
     "output_type": "execute_result"
    }
   ],
   "source": [
    "layer_edit"
   ]
  },
  {
   "cell_type": "code",
   "execution_count": 222,
   "id": "8539392e",
   "metadata": {},
   "outputs": [],
   "source": [
    "close_popup(driver=layer_edit[0], button_name='sliders')\n",
    "input_range = driver.find_elements(By.XPATH, \"//input[@type='range']\")\n",
    "assert len(input_range)> 0"
   ]
  },
  {
   "cell_type": "code",
   "execution_count": 221,
   "id": "af8a4cf8",
   "metadata": {},
   "outputs": [
    {
     "data": {
      "text/plain": [
       "'sliders'"
      ]
     },
     "execution_count": 221,
     "metadata": {},
     "output_type": "execute_result"
    }
   ],
   "source": [
    "buttons[3].get_attribute('data-icon')"
   ]
  },
  {
   "cell_type": "code",
   "execution_count": 217,
   "id": "6f7c7c69",
   "metadata": {},
   "outputs": [],
   "source": [
    "buttons = layer_edit[0].find_elements(By.TAG_NAME, \"svg\")\n",
    "for button in buttons:\n",
    "    if button.get_attribute('data-icon') == 'slider':\n",
    "        print(button)\n",
    "        button.click()\n",
    "        break"
   ]
  },
  {
   "cell_type": "code",
   "execution_count": 202,
   "id": "e72fa711",
   "metadata": {},
   "outputs": [],
   "source": [
    "check_layer.click()"
   ]
  },
  {
   "cell_type": "code",
   "execution_count": 171,
   "id": "8c44cbb5",
   "metadata": {},
   "outputs": [],
   "source": [
    "layer_edit = driver.find_elements(By.ID, \"layer-edit\")\n",
    "assert len(layer_edit) > 0"
   ]
  },
  {
   "cell_type": "code",
   "execution_count": 172,
   "id": "25c7eba2",
   "metadata": {},
   "outputs": [],
   "source": [
    "layer_edit[0].find_elements(By.TAG_NAME, 'svg')[0].click()"
   ]
  },
  {
   "cell_type": "code",
   "execution_count": 174,
   "id": "ec1b199c",
   "metadata": {},
   "outputs": [
    {
     "data": {
      "text/plain": [
       "'Data Exploration'"
      ]
     },
     "execution_count": 174,
     "metadata": {},
     "output_type": "execute_result"
    }
   ],
   "source": [
    "section_name"
   ]
  },
  {
   "cell_type": "code",
   "execution_count": 165,
   "id": "528f0fb4",
   "metadata": {},
   "outputs": [],
   "source": [
    "layers = driver.find_elements(By.CLASS_NAME, \"leaflet-tile-container\")"
   ]
  },
  {
   "cell_type": "code",
   "execution_count": 168,
   "id": "263d4a6a",
   "metadata": {},
   "outputs": [
    {
     "ename": "AssertionError",
     "evalue": "",
     "output_type": "error",
     "traceback": [
      "\u001b[0;31m---------------------------------------------------------------------------\u001b[0m",
      "\u001b[0;31mAssertionError\u001b[0m                            Traceback (most recent call last)",
      "Cell \u001b[0;32mIn[168], line 1\u001b[0m\n\u001b[0;32m----> 1\u001b[0m \u001b[38;5;28;01massert\u001b[39;00m \u001b[38;5;28;01mFalse\u001b[39;00m\n",
      "\u001b[0;31mAssertionError\u001b[0m: "
     ]
    }
   ],
   "source": [
    "assert False"
   ]
  },
  {
   "cell_type": "code",
   "execution_count": 167,
   "id": "67f6bf03",
   "metadata": {},
   "outputs": [],
   "source": [
    "new_layers = None\n",
    "for layer in layers:\n",
    "    if len(layer.find_elements(By.TAG_NAME, 'img')) > 0:\n",
    "        src = layer.find_element(By.TAG_NAME, 'img').get_attribute('src')\n",
    "        if 'imfe' in src:\n",
    "            new_layers = layer\n",
    "assert not new_layers"
   ]
  },
  {
   "cell_type": "code",
   "execution_count": 160,
   "id": "3ad3c073",
   "metadata": {},
   "outputs": [
    {
     "data": {
      "text/plain": [
       "'http://imfe-pilot-tileserver.noc.ac.uk/cog/tiles/WebMercatorQuad/10/488/345@1x?bidx=1&rescale=-5014.559375%2C-26.073087005615225&url=https%3A%2F%2Fpilot-imfe-o.s3-ext.jc.rl.ac.uk%2Fhaig-fras%2Foutput%2Fcog_rep_EMODNet_2020.tif&encoded=false&colormap_name=gray'"
      ]
     },
     "execution_count": 160,
     "metadata": {},
     "output_type": "execute_result"
    }
   ],
   "source": [
    "new_layers[0].find_element(By.TAG_NAME, 'img').get_attribute('src')"
   ]
  },
  {
   "cell_type": "code",
   "execution_count": null,
   "id": "3049fb07",
   "metadata": {},
   "outputs": [],
   "source": [
    "        type_options = driver.find_elements(By.ID, \"type-option\")\n",
    "        for type_option in type_options:\n",
    "            layer_edit = driver.find_elements(By.ID, \"layer-edit\")\n",
    "            assert len(layer_edit) == 0\n",
    "            type_options_text = type_option.text\n",
    "            type_option.click()\n",
    "            sleep(10)\n",
    "            layer_edit = driver.find_elements(By.ID, \"layer-edit\")\n",
    "            assert len(layer_edit) > 0\n",
    "            layer_edit = driver.find_elements(By.CLASS_NAME, \"layer-edit\")"
   ]
  },
  {
   "cell_type": "code",
   "execution_count": 80,
   "id": "8ef1e645",
   "metadata": {},
   "outputs": [],
   "source": [
    "plot_container = result.find_element(By.CLASS_NAME, 'plotly')\n",
    "lines = plot_container.find_elements(By.CLASS_NAME, 'scatter')"
   ]
  },
  {
   "cell_type": "code",
   "execution_count": 81,
   "id": "55648850",
   "metadata": {},
   "outputs": [
    {
     "data": {
      "text/plain": [
       "<selenium.webdriver.remote.webelement.WebElement (session=\"a47d668842161efd42381283507e5fd0\", element=\"1D48E2EFB3AF298B98BBA135B1D04662_element_118\")>"
      ]
     },
     "execution_count": 81,
     "metadata": {},
     "output_type": "execute_result"
    }
   ],
   "source": [
    "lines[0]"
   ]
  },
  {
   "cell_type": "code",
   "execution_count": 82,
   "id": "01f5aa9c",
   "metadata": {},
   "outputs": [],
   "source": [
    "act_driver = ActionChains(driver)"
   ]
  },
  {
   "cell_type": "code",
   "execution_count": 83,
   "id": "fad72b2e",
   "metadata": {},
   "outputs": [],
   "source": [
    "for line in lines:\n",
    "    x = line.find_element(By.CLASS_NAME, 'lines')\n",
    "    act_driver.move_to_element(x).perform()"
   ]
  },
  {
   "cell_type": "code",
   "execution_count": 84,
   "id": "153c57e3",
   "metadata": {},
   "outputs": [
    {
     "data": {
      "text/plain": [
       "'Density\\nHabitat type:\\nCOARSE\\nSAND\\nINTERMEDIATE\\nHARD\\nSeabed Area: 2602 m2 / Value: -0.72 +--1.83\\n2000\\n4000\\n0.05\\n0.1\\n0.15\\n0.2\\n0.25\\n0.3\\nDensity (counts/m2)'"
      ]
     },
     "execution_count": 84,
     "metadata": {},
     "output_type": "execute_result"
    }
   ],
   "source": [
    "result.text"
   ]
  },
  {
   "cell_type": "code",
   "execution_count": 85,
   "id": "f4196ef5",
   "metadata": {},
   "outputs": [
    {
     "data": {
      "text/plain": [
       "[<selenium.webdriver.remote.webelement.WebElement (session=\"a47d668842161efd42381283507e5fd0\", element=\"1D48E2EFB3AF298B98BBA135B1D04662_element_132\")>]"
      ]
     },
     "execution_count": 85,
     "metadata": {},
     "output_type": "execute_result"
    }
   ],
   "source": [
    "hover_values = result.find_elements(By.ID, 'hover-value')\n",
    "hover_values"
   ]
  },
  {
   "cell_type": "code",
   "execution_count": 86,
   "id": "a931b1ee",
   "metadata": {},
   "outputs": [],
   "source": [
    "circles = driver.find_elements(By.CSS_SELECTOR, \"svg.leaflet-zoom-animated>g path\")\n",
    "assert circles[0].get_attribute('stroke') == '#ffd3c9'\n",
    "assert circles[1].get_attribute('stroke') == '#ff96bc'\n"
   ]
  },
  {
   "cell_type": "code",
   "execution_count": 87,
   "id": "0b9ce8f7",
   "metadata": {},
   "outputs": [
    {
     "name": "stdout",
     "output_type": "stream",
     "text": [
      "M579,279.99999774905154a1,1 0 1,0 2,0 a1,1 0 1,0 -2,0 \n",
      "M579,279.9999999749416a1,1 0 1,0 2,0 a1,1 0 1,0 -2,0 \n"
     ]
    }
   ],
   "source": [
    "x1 = circles[0].get_attribute('d')\n",
    "x2 = circles[1].get_attribute('d')\n",
    "print(x1)\n",
    "print(x2)"
   ]
  },
  {
   "cell_type": "code",
   "execution_count": 88,
   "id": "0a6b3781",
   "metadata": {},
   "outputs": [
    {
     "name": "stdout",
     "output_type": "stream",
     "text": [
      "M579,279.99999774905154a1,1 0 1,0 2,0 a1,1 0 1,0 -2,0 \n",
      "M579,279.9999999749416a1,1 0 1,0 2,0 a1,1 0 1,0 -2,0 \n"
     ]
    }
   ],
   "source": [
    "x1 = circles[0].get_attribute('d')\n",
    "x2 = circles[1].get_attribute('d')\n",
    "print(x1)\n",
    "print(x2)"
   ]
  },
  {
   "cell_type": "code",
   "execution_count": 95,
   "id": "bc57a0eb",
   "metadata": {},
   "outputs": [
    {
     "name": "stdout",
     "output_type": "stream",
     "text": [
      "2\n",
      "1\n",
      "0\n"
     ]
    }
   ],
   "source": [
    "for i in range(3):\n",
    "    print(2-i)"
   ]
  },
  {
   "cell_type": "code",
   "execution_count": 89,
   "id": "99e7dd2f",
   "metadata": {},
   "outputs": [],
   "source": [
    "act_driver = ActionChains(driver)"
   ]
  },
  {
   "cell_type": "code",
   "execution_count": 90,
   "id": "c2e9294c",
   "metadata": {},
   "outputs": [],
   "source": [
    "rangeslider_max = plot_container.find_element(By.CLASS_NAME, 'rangeslider-grabber-max')\n",
    "act_driver.click_and_hold(rangeslider_max).move_by_offset(10, 10).release().perform()"
   ]
  },
  {
   "cell_type": "code",
   "execution_count": 91,
   "id": "50c8487b",
   "metadata": {},
   "outputs": [],
   "source": [
    "leaflet_map = driver.find_element(By.CLASS_NAME, \"leaflet-map-pane\")\n",
    "act_driver.click_and_hold(leaflet_map).move_by_offset(10, 10).release().perform()"
   ]
  },
  {
   "cell_type": "code",
   "execution_count": 67,
   "id": "9459b1d6",
   "metadata": {},
   "outputs": [],
   "source": [
    "select_box = result.find_element(By.ID, 'select_habitat')"
   ]
  },
  {
   "cell_type": "code",
   "execution_count": 93,
   "id": "6ce4572a",
   "metadata": {},
   "outputs": [
    {
     "data": {
      "text/plain": [
       "4"
      ]
     },
     "execution_count": 93,
     "metadata": {},
     "output_type": "execute_result"
    }
   ],
   "source": [
    "select_box = Select(driver.find_element(By.ID, 'select_habitat'))\n",
    "len(select_box.options)"
   ]
  },
  {
   "cell_type": "code",
   "execution_count": 97,
   "id": "ec1249f0",
   "metadata": {},
   "outputs": [
    {
     "data": {
      "text/plain": [
       "'COARSE'"
      ]
     },
     "execution_count": 97,
     "metadata": {},
     "output_type": "execute_result"
    }
   ],
   "source": [
    "select_box.options[0].text"
   ]
  },
  {
   "cell_type": "code",
   "execution_count": 99,
   "id": "46b46d42",
   "metadata": {},
   "outputs": [
    {
     "data": {
      "text/plain": [
       "<selenium.webdriver.common.action_chains.ActionChains at 0x7ff8be3308b0>"
      ]
     },
     "execution_count": 99,
     "metadata": {},
     "output_type": "execute_result"
    }
   ],
   "source": [
    "start = leaflet_map.location\n",
    "start\n",
    "\n",
    "act_driver.drag_and_drop_by_offset(leaflet_map, 10 - start['x'], 10 - start['y'])"
   ]
  },
  {
   "cell_type": "code",
   "execution_count": 75,
   "id": "59f25269",
   "metadata": {},
   "outputs": [
    {
     "ename": "WebDriverException",
     "evalue": "Message: unknown error: unhandled inspector error: {\"code\":-32000,\"message\":\"No node with given id found\"}\n  (Session info: headless chrome=115.0.5790.110)\nStacktrace:\n#0 0x56549a8314e3 <unknown>\n#1 0x56549a560c76 <unknown>\n#2 0x56549a54a900 <unknown>\n#3 0x56549a548bac <unknown>\n#4 0x56549a549162 <unknown>\n#5 0x56549a5490b4 <unknown>\n#6 0x56549a56db86 <unknown>\n#7 0x56549a5656f3 <unknown>\n#8 0x56549a5641d6 <unknown>\n#9 0x56549a56697e <unknown>\n#10 0x56549a566a4c <unknown>\n#11 0x56549a59c86a <unknown>\n#12 0x56549a59cdc1 <unknown>\n#13 0x56549a592c16 <unknown>\n#14 0x56549a5bc03d <unknown>\n#15 0x56549a592b03 <unknown>\n#16 0x56549a5bc1de <unknown>\n#17 0x56549a5d430e <unknown>\n#18 0x56549a5bbde3 <unknown>\n#19 0x56549a5912dd <unknown>\n#20 0x56549a59234e <unknown>\n#21 0x56549a7f13e4 <unknown>\n#22 0x56549a7f53d7 <unknown>\n#23 0x56549a7ffb20 <unknown>\n#24 0x56549a7f6023 <unknown>\n#25 0x56549a7c41aa <unknown>\n#26 0x56549a81a6b8 <unknown>\n#27 0x56549a81a847 <unknown>\n#28 0x56549a82a243 <unknown>\n#29 0x7fc912494b43 <unknown>\n",
     "output_type": "error",
     "traceback": [
      "\u001b[0;31m---------------------------------------------------------------------------\u001b[0m",
      "\u001b[0;31mWebDriverException\u001b[0m                        Traceback (most recent call last)",
      "Cell \u001b[0;32mIn[75], line 1\u001b[0m\n\u001b[0;32m----> 1\u001b[0m select_box \u001b[38;5;241m=\u001b[39m \u001b[43mresult\u001b[49m\u001b[38;5;241;43m.\u001b[39;49m\u001b[43mfind_element\u001b[49m\u001b[43m(\u001b[49m\u001b[43mBy\u001b[49m\u001b[38;5;241;43m.\u001b[39;49m\u001b[43mID\u001b[49m\u001b[43m,\u001b[49m\u001b[43m \u001b[49m\u001b[38;5;124;43m'\u001b[39;49m\u001b[38;5;124;43mselect_habitat\u001b[39;49m\u001b[38;5;124;43m'\u001b[39;49m\u001b[43m)\u001b[49m\n\u001b[1;32m      2\u001b[0m select_box\n",
      "File \u001b[0;32m~/.pyenv/versions/noc/envs/frontend_test/lib/python3.10/site-packages/selenium/webdriver/remote/webelement.py:417\u001b[0m, in \u001b[0;36mWebElement.find_element\u001b[0;34m(self, by, value)\u001b[0m\n\u001b[1;32m    414\u001b[0m     by \u001b[38;5;241m=\u001b[39m By\u001b[38;5;241m.\u001b[39mCSS_SELECTOR\n\u001b[1;32m    415\u001b[0m     value \u001b[38;5;241m=\u001b[39m \u001b[38;5;124mf\u001b[39m\u001b[38;5;124m'\u001b[39m\u001b[38;5;124m[name=\u001b[39m\u001b[38;5;124m\"\u001b[39m\u001b[38;5;132;01m{\u001b[39;00mvalue\u001b[38;5;132;01m}\u001b[39;00m\u001b[38;5;124m\"\u001b[39m\u001b[38;5;124m]\u001b[39m\u001b[38;5;124m'\u001b[39m\n\u001b[0;32m--> 417\u001b[0m \u001b[38;5;28;01mreturn\u001b[39;00m \u001b[38;5;28;43mself\u001b[39;49m\u001b[38;5;241;43m.\u001b[39;49m\u001b[43m_execute\u001b[49m\u001b[43m(\u001b[49m\u001b[43mCommand\u001b[49m\u001b[38;5;241;43m.\u001b[39;49m\u001b[43mFIND_CHILD_ELEMENT\u001b[49m\u001b[43m,\u001b[49m\u001b[43m \u001b[49m\u001b[43m{\u001b[49m\u001b[38;5;124;43m\"\u001b[39;49m\u001b[38;5;124;43musing\u001b[39;49m\u001b[38;5;124;43m\"\u001b[39;49m\u001b[43m:\u001b[49m\u001b[43m \u001b[49m\u001b[43mby\u001b[49m\u001b[43m,\u001b[49m\u001b[43m \u001b[49m\u001b[38;5;124;43m\"\u001b[39;49m\u001b[38;5;124;43mvalue\u001b[39;49m\u001b[38;5;124;43m\"\u001b[39;49m\u001b[43m:\u001b[49m\u001b[43m \u001b[49m\u001b[43mvalue\u001b[49m\u001b[43m}\u001b[49m\u001b[43m)\u001b[49m[\u001b[38;5;124m\"\u001b[39m\u001b[38;5;124mvalue\u001b[39m\u001b[38;5;124m\"\u001b[39m]\n",
      "File \u001b[0;32m~/.pyenv/versions/noc/envs/frontend_test/lib/python3.10/site-packages/selenium/webdriver/remote/webelement.py:395\u001b[0m, in \u001b[0;36mWebElement._execute\u001b[0;34m(self, command, params)\u001b[0m\n\u001b[1;32m    393\u001b[0m     params \u001b[38;5;241m=\u001b[39m {}\n\u001b[1;32m    394\u001b[0m params[\u001b[38;5;124m\"\u001b[39m\u001b[38;5;124mid\u001b[39m\u001b[38;5;124m\"\u001b[39m] \u001b[38;5;241m=\u001b[39m \u001b[38;5;28mself\u001b[39m\u001b[38;5;241m.\u001b[39m_id\n\u001b[0;32m--> 395\u001b[0m \u001b[38;5;28;01mreturn\u001b[39;00m \u001b[38;5;28;43mself\u001b[39;49m\u001b[38;5;241;43m.\u001b[39;49m\u001b[43m_parent\u001b[49m\u001b[38;5;241;43m.\u001b[39;49m\u001b[43mexecute\u001b[49m\u001b[43m(\u001b[49m\u001b[43mcommand\u001b[49m\u001b[43m,\u001b[49m\u001b[43m \u001b[49m\u001b[43mparams\u001b[49m\u001b[43m)\u001b[49m\n",
      "File \u001b[0;32m~/.pyenv/versions/noc/envs/frontend_test/lib/python3.10/site-packages/selenium/webdriver/remote/webdriver.py:346\u001b[0m, in \u001b[0;36mWebDriver.execute\u001b[0;34m(self, driver_command, params)\u001b[0m\n\u001b[1;32m    344\u001b[0m response \u001b[38;5;241m=\u001b[39m \u001b[38;5;28mself\u001b[39m\u001b[38;5;241m.\u001b[39mcommand_executor\u001b[38;5;241m.\u001b[39mexecute(driver_command, params)\n\u001b[1;32m    345\u001b[0m \u001b[38;5;28;01mif\u001b[39;00m response:\n\u001b[0;32m--> 346\u001b[0m     \u001b[38;5;28;43mself\u001b[39;49m\u001b[38;5;241;43m.\u001b[39;49m\u001b[43merror_handler\u001b[49m\u001b[38;5;241;43m.\u001b[39;49m\u001b[43mcheck_response\u001b[49m\u001b[43m(\u001b[49m\u001b[43mresponse\u001b[49m\u001b[43m)\u001b[49m\n\u001b[1;32m    347\u001b[0m     response[\u001b[38;5;124m\"\u001b[39m\u001b[38;5;124mvalue\u001b[39m\u001b[38;5;124m\"\u001b[39m] \u001b[38;5;241m=\u001b[39m \u001b[38;5;28mself\u001b[39m\u001b[38;5;241m.\u001b[39m_unwrap_value(response\u001b[38;5;241m.\u001b[39mget(\u001b[38;5;124m\"\u001b[39m\u001b[38;5;124mvalue\u001b[39m\u001b[38;5;124m\"\u001b[39m, \u001b[38;5;28;01mNone\u001b[39;00m))\n\u001b[1;32m    348\u001b[0m     \u001b[38;5;28;01mreturn\u001b[39;00m response\n",
      "File \u001b[0;32m~/.pyenv/versions/noc/envs/frontend_test/lib/python3.10/site-packages/selenium/webdriver/remote/errorhandler.py:245\u001b[0m, in \u001b[0;36mErrorHandler.check_response\u001b[0;34m(self, response)\u001b[0m\n\u001b[1;32m    243\u001b[0m         alert_text \u001b[38;5;241m=\u001b[39m value[\u001b[38;5;124m\"\u001b[39m\u001b[38;5;124malert\u001b[39m\u001b[38;5;124m\"\u001b[39m]\u001b[38;5;241m.\u001b[39mget(\u001b[38;5;124m\"\u001b[39m\u001b[38;5;124mtext\u001b[39m\u001b[38;5;124m\"\u001b[39m)\n\u001b[1;32m    244\u001b[0m     \u001b[38;5;28;01mraise\u001b[39;00m exception_class(message, screen, stacktrace, alert_text)  \u001b[38;5;66;03m# type: ignore[call-arg]  # mypy is not smart enough here\u001b[39;00m\n\u001b[0;32m--> 245\u001b[0m \u001b[38;5;28;01mraise\u001b[39;00m exception_class(message, screen, stacktrace)\n",
      "\u001b[0;31mWebDriverException\u001b[0m: Message: unknown error: unhandled inspector error: {\"code\":-32000,\"message\":\"No node with given id found\"}\n  (Session info: headless chrome=115.0.5790.110)\nStacktrace:\n#0 0x56549a8314e3 <unknown>\n#1 0x56549a560c76 <unknown>\n#2 0x56549a54a900 <unknown>\n#3 0x56549a548bac <unknown>\n#4 0x56549a549162 <unknown>\n#5 0x56549a5490b4 <unknown>\n#6 0x56549a56db86 <unknown>\n#7 0x56549a5656f3 <unknown>\n#8 0x56549a5641d6 <unknown>\n#9 0x56549a56697e <unknown>\n#10 0x56549a566a4c <unknown>\n#11 0x56549a59c86a <unknown>\n#12 0x56549a59cdc1 <unknown>\n#13 0x56549a592c16 <unknown>\n#14 0x56549a5bc03d <unknown>\n#15 0x56549a592b03 <unknown>\n#16 0x56549a5bc1de <unknown>\n#17 0x56549a5d430e <unknown>\n#18 0x56549a5bbde3 <unknown>\n#19 0x56549a5912dd <unknown>\n#20 0x56549a59234e <unknown>\n#21 0x56549a7f13e4 <unknown>\n#22 0x56549a7f53d7 <unknown>\n#23 0x56549a7ffb20 <unknown>\n#24 0x56549a7f6023 <unknown>\n#25 0x56549a7c41aa <unknown>\n#26 0x56549a81a6b8 <unknown>\n#27 0x56549a81a847 <unknown>\n#28 0x56549a82a243 <unknown>\n#29 0x7fc912494b43 <unknown>\n"
     ]
    }
   ],
   "source": [
    "select_box = result.find_element(By.ID, 'select_habitat')\n",
    "select_box"
   ]
  },
  {
   "cell_type": "code",
   "execution_count": null,
   "id": "2bd14d81",
   "metadata": {},
   "outputs": [],
   "source": [
    "select_box.select_by_visible_text(\"Europe\")"
   ]
  },
  {
   "cell_type": "code",
   "execution_count": 94,
   "id": "03f078e1",
   "metadata": {},
   "outputs": [
    {
     "data": {
      "text/plain": [
       "''"
      ]
     },
     "execution_count": 94,
     "metadata": {},
     "output_type": "execute_result"
    }
   ],
   "source": [
    "range_values = result.find_elements(By.ID, 'range-value')\n",
    "range_values[1].text"
   ]
  },
  {
   "cell_type": "code",
   "execution_count": 38,
   "id": "fcf9ebeb",
   "metadata": {},
   "outputs": [
    {
     "data": {
      "text/plain": [
       "' text-center bg-blue-500'"
      ]
     },
     "execution_count": 38,
     "metadata": {},
     "output_type": "execute_result"
    }
   ],
   "source": [
    "range_values[0].find_elements(By.TAG_NAME, 'div')[0].get_attribute('class')"
   ]
  },
  {
   "cell_type": "code",
   "execution_count": 28,
   "id": "80335ab7",
   "metadata": {},
   "outputs": [
    {
     "data": {
      "text/plain": [
       "<selenium.webdriver.remote.webelement.WebElement (session=\"d787602c4ca19552c2c0c9616d236b3e\", element=\"35326EA4471E28EA3AA74C324E5D226E_element_37\")>"
      ]
     },
     "execution_count": 28,
     "metadata": {},
     "output_type": "execute_result"
    }
   ],
   "source": [
    "p = range_values[1].find_elements(By.TAG_NAME, 'p')\n",
    "p[1]"
   ]
  },
  {
   "cell_type": "code",
   "execution_count": 8,
   "id": "0cc0163e",
   "metadata": {},
   "outputs": [
    {
     "data": {
      "text/plain": [
       "'Diversity across survey'"
      ]
     },
     "execution_count": 8,
     "metadata": {},
     "output_type": "execute_result"
    }
   ],
   "source": [
    "x = driver.find_elements(By.ID, \"general-types\")\n",
    "x[0].text"
   ]
  },
  {
   "cell_type": "code",
   "execution_count": 12,
   "id": "3122f9e5",
   "metadata": {},
   "outputs": [
    {
     "data": {
      "text/plain": [
       "'Haig Fras'"
      ]
     },
     "execution_count": 12,
     "metadata": {},
     "output_type": "execute_result"
    }
   ],
   "source": [
    "section_title[1].text"
   ]
  },
  {
   "cell_type": "code",
   "execution_count": 9,
   "id": "b44e60b6",
   "metadata": {},
   "outputs": [],
   "source": [
    "check_info_section(driver, x[0].text, id_name=\"info-subsection-button\")"
   ]
  },
  {
   "cell_type": "code",
   "execution_count": 7,
   "id": "4280370c",
   "metadata": {},
   "outputs": [
    {
     "data": {
      "text/plain": [
       "[<selenium.webdriver.remote.webelement.WebElement (session=\"c4c23d5831a93e983b144dbece7f5ffa\", element=\"AB04F04E523D95B765AE25750404F69F_element_43\")>,\n",
       " <selenium.webdriver.remote.webelement.WebElement (session=\"c4c23d5831a93e983b144dbece7f5ffa\", element=\"AB04F04E523D95B765AE25750404F69F_element_44\")>,\n",
       " <selenium.webdriver.remote.webelement.WebElement (session=\"c4c23d5831a93e983b144dbece7f5ffa\", element=\"AB04F04E523D95B765AE25750404F69F_element_31\")>,\n",
       " <selenium.webdriver.remote.webelement.WebElement (session=\"c4c23d5831a93e983b144dbece7f5ffa\", element=\"AB04F04E523D95B765AE25750404F69F_element_45\")>,\n",
       " <selenium.webdriver.remote.webelement.WebElement (session=\"c4c23d5831a93e983b144dbece7f5ffa\", element=\"AB04F04E523D95B765AE25750404F69F_element_46\")>,\n",
       " <selenium.webdriver.remote.webelement.WebElement (session=\"c4c23d5831a93e983b144dbece7f5ffa\", element=\"AB04F04E523D95B765AE25750404F69F_element_47\")>,\n",
       " <selenium.webdriver.remote.webelement.WebElement (session=\"c4c23d5831a93e983b144dbece7f5ffa\", element=\"AB04F04E523D95B765AE25750404F69F_element_30\")>,\n",
       " <selenium.webdriver.remote.webelement.WebElement (session=\"c4c23d5831a93e983b144dbece7f5ffa\", element=\"AB04F04E523D95B765AE25750404F69F_element_48\")>,\n",
       " <selenium.webdriver.remote.webelement.WebElement (session=\"c4c23d5831a93e983b144dbece7f5ffa\", element=\"AB04F04E523D95B765AE25750404F69F_element_49\")>,\n",
       " <selenium.webdriver.remote.webelement.WebElement (session=\"c4c23d5831a93e983b144dbece7f5ffa\", element=\"AB04F04E523D95B765AE25750404F69F_element_50\")>,\n",
       " <selenium.webdriver.remote.webelement.WebElement (session=\"c4c23d5831a93e983b144dbece7f5ffa\", element=\"AB04F04E523D95B765AE25750404F69F_element_51\")>,\n",
       " <selenium.webdriver.remote.webelement.WebElement (session=\"c4c23d5831a93e983b144dbece7f5ffa\", element=\"AB04F04E523D95B765AE25750404F69F_element_52\")>]"
      ]
     },
     "execution_count": 7,
     "metadata": {},
     "output_type": "execute_result"
    }
   ],
   "source": [
    "driver.find_elements(By.TAG_NAME, \"header\")"
   ]
  },
  {
   "cell_type": "code",
   "execution_count": 96,
   "id": "e60d777a",
   "metadata": {},
   "outputs": [
    {
     "data": {
      "text/plain": [
       "\"//em[text()='Cartilagenous fish']\""
      ]
     },
     "execution_count": 96,
     "metadata": {},
     "output_type": "execute_result"
    }
   ],
   "source": [
    "f\"//em[text()='{organism}']\""
   ]
  },
  {
   "cell_type": "code",
   "execution_count": 97,
   "id": "cc0c9f26",
   "metadata": {},
   "outputs": [],
   "source": [
    "buttons[1].click()\n"
   ]
  },
  {
   "cell_type": "code",
   "execution_count": 108,
   "id": "e1357a4f",
   "metadata": {},
   "outputs": [],
   "source": [
    "driver.get(url)\n",
    "close_popup(driver)\n",
    "button = driver.find_element(By.ID, \"Species of Interest\")\n",
    "button.click()\n",
    "\n",
    "section_name = \"Species of Interest\"\n",
    "section_title = driver.find_elements(By.TAG_NAME, \"h1\")\n",
    "assert section_title[0].text == section_name"
   ]
  },
  {
   "cell_type": "code",
   "execution_count": 109,
   "id": "579dcf01",
   "metadata": {},
   "outputs": [],
   "source": [
    "check_info_subsection(driver, section_name)\n",
    "\n",
    "buttons = driver.find_elements(By.XPATH, \"//span[@title='expand']\")\n",
    "assert len(buttons) > 1\n",
    "\n",
    "buttons[1].click()\n",
    "\n",
    "organisms = ['Pentapora foliacea', 'Cartilagenous fish']"
   ]
  },
  {
   "cell_type": "code",
   "execution_count": 110,
   "id": "ffe4c9b0",
   "metadata": {},
   "outputs": [
    {
     "name": "stdout",
     "output_type": "stream",
     "text": [
      "Pentapora foliacea\n",
      "Cartilagenous fish\n"
     ]
    }
   ],
   "source": [
    "for organism in organisms:\n",
    "    name = driver.find_elements(By.XPATH, f\"//em[text()='{organism}']\")\n",
    "    if len(name) == 0:\n",
    "        name = driver.find_elements(By.XPATH, f\"//p[text()='{organism}']\")\n",
    "    name[0].click()\n",
    "    # sleep(20)\n",
    "    print(name[0].text)\n",
    "    # result = driver.find_element(By.ID, \"calculate-value\")\n",
    "    wait = WebDriverWait(driver, 60)\n",
    "    result = wait.until(EC.visibility_of_element_located((By.ID, \"calculate-value\")))\n"
   ]
  },
  {
   "cell_type": "code",
   "execution_count": 83,
   "id": "7b731132",
   "metadata": {},
   "outputs": [],
   "source": [
    "organisms = ['Pentapora foliacea', 'Cartilagenous fish']"
   ]
  },
  {
   "cell_type": "code",
   "execution_count": 85,
   "id": "bc1e83df",
   "metadata": {},
   "outputs": [
    {
     "data": {
      "text/plain": [
       "<selenium.webdriver.remote.webelement.WebElement (session=\"c90f05b862ecbb18de202b986395d9c6\", element=\"C2CF77325344C2A30BA664B801025389_element_57\")>"
      ]
     },
     "execution_count": 85,
     "metadata": {},
     "output_type": "execute_result"
    }
   ],
   "source": [
    "name = driver.find_element(By.XPATH, f\"//em[text()='{organisms[0]}']\")\n",
    "name"
   ]
  },
  {
   "cell_type": "code",
   "execution_count": 87,
   "id": "d4ca3c8a",
   "metadata": {},
   "outputs": [],
   "source": [
    "name.click()"
   ]
  },
  {
   "cell_type": "code",
   "execution_count": 88,
   "id": "c22c5b74",
   "metadata": {},
   "outputs": [],
   "source": [
    "wait = WebDriverWait(driver, 10)\n",
    "result = wait.until(EC.visibility_of_element_located((By.ID, \"calculate-value\")))"
   ]
  },
  {
   "cell_type": "code",
   "execution_count": 89,
   "id": "1ec531fb",
   "metadata": {},
   "outputs": [
    {
     "data": {
      "text/plain": [
       "<selenium.webdriver.remote.webelement.WebElement (session=\"c90f05b862ecbb18de202b986395d9c6\", element=\"C2CF77325344C2A30BA664B801025389_element_61\")>"
      ]
     },
     "execution_count": 89,
     "metadata": {},
     "output_type": "execute_result"
    }
   ],
   "source": [
    "result"
   ]
  },
  {
   "cell_type": "code",
   "execution_count": 67,
   "id": "0d4e1da5",
   "metadata": {},
   "outputs": [],
   "source": [
    "name.click()\n",
    "wait = WebDriverWait(driver, 10)\n",
    "result = wait.until(EC.visibility_of_element_located((By.ID, \"calculate-value\")))"
   ]
  },
  {
   "cell_type": "code",
   "execution_count": 76,
   "id": "f5dad8f9",
   "metadata": {},
   "outputs": [
    {
     "data": {
      "text/plain": [
       "'Pentapora foliacea'"
      ]
     },
     "execution_count": 76,
     "metadata": {},
     "output_type": "execute_result"
    }
   ],
   "source": [
    "p = result.find_elements(By.TAG_NAME, 'p')\n",
    "p[0].text"
   ]
  },
  {
   "cell_type": "code",
   "execution_count": 57,
   "id": "0fcc1ec9",
   "metadata": {},
   "outputs": [
    {
     "data": {
      "text/plain": [
       "'Species Of Interest'"
      ]
     },
     "execution_count": 57,
     "metadata": {},
     "output_type": "execute_result"
    }
   ],
   "source": [
    "section_title[0].text"
   ]
  },
  {
   "cell_type": "code",
   "execution_count": 28,
   "id": "7f578e7c",
   "metadata": {},
   "outputs": [
    {
     "data": {
      "text/plain": [
       "'Seabed Types'"
      ]
     },
     "execution_count": 28,
     "metadata": {},
     "output_type": "execute_result"
    }
   ],
   "source": [
    "buttons = driver.find_elements(By.TAG_NAME, \"h1\")\n",
    "buttons[0].text"
   ]
  },
  {
   "cell_type": "code",
   "execution_count": 29,
   "id": "6e466c84",
   "metadata": {},
   "outputs": [],
   "source": [
    "buttons = driver.find_elements(By.XPATH, \"//span[@title='expand']\")"
   ]
  },
  {
   "cell_type": "code",
   "execution_count": 30,
   "id": "93877416",
   "metadata": {},
   "outputs": [],
   "source": [
    "button = buttons[0]"
   ]
  },
  {
   "cell_type": "code",
   "execution_count": null,
   "id": "1abf9783",
   "metadata": {},
   "outputs": [],
   "source": []
  },
  {
   "cell_type": "code",
   "execution_count": 59,
   "id": "a74ea12c",
   "metadata": {},
   "outputs": [],
   "source": [
    "driver.close()      \n",
    "       \n",
    "\n"
   ]
  },
  {
   "cell_type": "code",
   "execution_count": null,
   "id": "1b5ce4d3",
   "metadata": {},
   "outputs": [],
   "source": []
  },
  {
   "cell_type": "code",
   "execution_count": null,
   "id": "a256b9e4",
   "metadata": {},
   "outputs": [],
   "source": []
  }
 ],
 "metadata": {
  "kernelspec": {
   "display_name": "Python 3 (ipykernel)",
   "language": "python",
   "name": "python3"
  },
  "language_info": {
   "codemirror_mode": {
    "name": "ipython",
    "version": 3
   },
   "file_extension": ".py",
   "mimetype": "text/x-python",
   "name": "python",
   "nbconvert_exporter": "python",
   "pygments_lexer": "ipython3",
   "version": "3.8.12"
  },
  "toc": {
   "base_numbering": 1,
   "nav_menu": {},
   "number_sections": true,
   "sideBar": true,
   "skip_h1_title": false,
   "title_cell": "Table of Contents",
   "title_sidebar": "Contents",
   "toc_cell": false,
   "toc_position": {},
   "toc_section_display": true,
   "toc_window_display": false
  }
 },
 "nbformat": 4,
 "nbformat_minor": 5
}
